{
 "cells": [
  {
   "cell_type": "code",
   "execution_count": 23,
   "metadata": {},
   "outputs": [],
   "source": [
    "import torch\n",
    "import torch.nn as nn\n",
    "import torch.optim as optim\n",
    "import torchvision\n",
    "import torchvision.models as models\n",
    "import torchvision.transforms as transforms\n",
    "\n",
    "from torch.utils.data import TensorDataset, DataLoader, Dataset\n",
    "\n",
    "import torch.nn.functional as F\n",
    "\n",
    "import numpy as np\n",
    "\n",
    "\n",
    "import matplotlib.pyplot as plt\n",
    "\n",
    "from PIL import Image\n",
    "\n",
    "import os\n",
    "import glob\n",
    "\n",
    "\n",
    "from MyDataLoader import ShuffleDataLoader\n",
    "from FileReader import get_picture_tensors\n",
    "from MyModels import SimpleCNN, CatNet\n",
    "from ModelEvaluation import eval_model\n"
   ]
  },
  {
   "cell_type": "code",
   "execution_count": 24,
   "metadata": {},
   "outputs": [],
   "source": [
    "# data params\n",
    "n_classes = 50\n",
    "\n",
    "required_train_imgs = 10\n",
    "required_test_imgs = 1"
   ]
  },
  {
   "cell_type": "code",
   "execution_count": 25,
   "metadata": {},
   "outputs": [
    {
     "name": "stdout",
     "output_type": "stream",
     "text": [
      "Chargement de dataset_chat_downscale\\0001  ->  12/17 images\n",
      "Chargement de dataset_chat_downscale\\0002  ->  12/20 images\n",
      "Chargement de dataset_chat_downscale\\0003  ->  12/15 images\n",
      "Chargement de dataset_chat_downscale\\0004  ->  12/56 images\n",
      "Chargement de dataset_chat_downscale\\0005  ->  12/41 images\n",
      "Chargement de dataset_chat_downscale\\0006  ->  12/40 images\n",
      "Chargement de dataset_chat_downscale\\0007  ->  12/41 images\n",
      "Chargement de dataset_chat_downscale\\0008  ->  12/18 images\n",
      "Chargement de dataset_chat_downscale\\0009  ->  12/13 images\n",
      "Chargement de dataset_chat_downscale\\0010  ->  12/36 images\n",
      "Chargement de dataset_chat_downscale\\0011  ->  12/26 images\n",
      "Chargement de dataset_chat_downscale\\0012  ->  12/17 images\n",
      "Chargement de dataset_chat_downscale\\0014  ->  12/16 images\n",
      "Chargement de dataset_chat_downscale\\0015  ->  12/53 images\n",
      "Chargement de dataset_chat_downscale\\0016  ->  12/32 images\n",
      "Chargement de dataset_chat_downscale\\0017  ->  12/61 images\n",
      "Chargement de dataset_chat_downscale\\0018  ->  12/54 images\n",
      "Chargement de dataset_chat_downscale\\0019  ->  12/46 images\n",
      "Chargement de dataset_chat_downscale\\0020  ->  12/29 images\n",
      "Chargement de dataset_chat_downscale\\0021  ->  12/36 images\n",
      "Chargement de dataset_chat_downscale\\0022  ->  12/40 images\n",
      "Chargement de dataset_chat_downscale\\0023  ->  12/12 images\n",
      "Chargement de dataset_chat_downscale\\0024  ->  12/28 images\n",
      "Chargement de dataset_chat_downscale\\0025  ->  12/16 images\n",
      "Chargement de dataset_chat_downscale\\0026  ->  12/20 images\n",
      "Chargement de dataset_chat_downscale\\0027  ->  12/51 images\n",
      "Chargement de dataset_chat_downscale\\0028  ->  12/37 images\n",
      "Chargement de dataset_chat_downscale\\0029  ->  12/77 images\n",
      "Chargement de dataset_chat_downscale\\0030  ->  12/25 images\n",
      "Chargement de dataset_chat_downscale\\0031  ->  12/28 images\n",
      "Chargement de dataset_chat_downscale\\0033  ->  12/13 images\n",
      "dataset_chat_downscale\\0034 does not contain enough images, will not be used\n",
      "Chargement de dataset_chat_downscale\\0035  ->  12/15 images\n",
      "Chargement de dataset_chat_downscale\\0036  ->  12/33 images\n",
      "Chargement de dataset_chat_downscale\\0037  ->  12/16 images\n",
      "dataset_chat_downscale\\0038 does not contain enough images, will not be used\n",
      "dataset_chat_downscale\\0039 does not contain enough images, will not be used\n",
      "Chargement de dataset_chat_downscale\\0040  ->  12/12 images\n",
      "dataset_chat_downscale\\0041 does not contain enough images, will not be used\n",
      "Chargement de dataset_chat_downscale\\0042  ->  12/23 images\n",
      "Chargement de dataset_chat_downscale\\0043  ->  12/27 images\n",
      "Chargement de dataset_chat_downscale\\0044  ->  12/52 images\n",
      "Chargement de dataset_chat_downscale\\0045  ->  12/19 images\n",
      "Chargement de dataset_chat_downscale\\0046  ->  12/95 images\n",
      "Chargement de dataset_chat_downscale\\0047  ->  12/43 images\n",
      "Chargement de dataset_chat_downscale\\0048  ->  12/38 images\n",
      "Chargement de dataset_chat_downscale\\0049  ->  12/17 images\n",
      "Chargement de dataset_chat_downscale\\0050  ->  12/22 images\n",
      "Chargement de dataset_chat_downscale\\0051  ->  12/20 images\n",
      "Chargement de dataset_chat_downscale\\0052  ->  12/14 images\n",
      "dataset_chat_downscale\\0053 does not contain enough images, will not be used\n",
      "Chargement de dataset_chat_downscale\\0105  ->  12/21 images\n",
      "Chargement de dataset_chat_downscale\\0106  ->  12/17 images\n",
      "Chargement de dataset_chat_downscale\\0107  ->  12/14 images\n",
      "Chargement de dataset_chat_downscale\\0108  ->  12/13 images\n",
      "Done!\n"
     ]
    }
   ],
   "source": [
    "root_dir = \"dataset_chat_downscale\"\n",
    "# root_dir = \"dataset_chat_downscale_no_background\"\n",
    "(train_images, val_images, test_images, \n",
    " train_labels, val_labels, test_labels) = get_picture_tensors(root_dir, n_classes=n_classes, \n",
    "                                                              required_train_imgs=required_train_imgs, \n",
    "                                                              required_test_imgs=required_test_imgs)"
   ]
  },
  {
   "cell_type": "code",
   "execution_count": 26,
   "metadata": {},
   "outputs": [
    {
     "name": "stdout",
     "output_type": "stream",
     "text": [
      "Accuracy on validation dataset: 94.00%\n",
      "Accuracy on validation dataset: 96.00%\n",
      "Accuracy on validation dataset: 96.00%\n",
      "Accuracy on validation dataset: 96.00%\n",
      "Training and evaluation finished.\n"
     ]
    }
   ],
   "source": [
    "# params du modèle, essayer avec gridsearch (idéalement Randomized pour ne pas prendre énormément de temps), avec une bonne machine durant la nuit ou qqch\n",
    "# faudrait idéalement logger les performances selon chaque combination de params pour s'amuser\n",
    "# num_epochs = 6\n",
    "num_epochs = 4\n",
    "batch_size = 8\n",
    "learning_rate = 1e-3\n",
    "\n",
    "\n",
    "train_dataset = ShuffleDataLoader(train_images, train_labels)\n",
    "train_dataloader = DataLoader(train_dataset, batch_size = batch_size, shuffle=True)\n",
    "val_dataset = ShuffleDataLoader(val_images, val_labels)\n",
    "\n",
    "\n",
    "# model = SimpleCNN(n_classes)\n",
    "# model = SimpleCNN(n_classes, pretrained = False, train_hidden_layer = True)\n",
    "# model = SimpleCNN(n_classes, pretrained = True, train_hidden_layer = True)\n",
    "\n",
    "model = CatNet(n_classes)\n",
    "\n",
    "model.train()\n",
    "\n",
    "criterion = nn.CrossEntropyLoss()\n",
    "params = filter(lambda x: x.requires_grad, model.parameters())\n",
    "optimizer = optim.Adam(params, lr = learning_rate)\n",
    "\n",
    "# Gossage sur les params potentiel\n",
    "# momentum = 0.5\n",
    "# weight_decay = 1e-5 \n",
    "# criterion = nn.CrossEntropyLoss(reduction = 'sum')\n",
    "# criterion = nn.CrossEntropyLoss(reduction = 'none')\n",
    "# optimizer = optim.Adam(model.parameters(), lr=learning_rate)\n",
    "# optimizer = optim.Adam(params, lr = learning_rate, weight_decay = weight_decay)\n",
    "# optimizer = optim.SGD(params, lr = learning_rate, momentum = momentum)   \n",
    "\n",
    "accuracy_at_each_epoch = []\n",
    "for epoch in range(num_epochs):\n",
    "    for images, labels in train_dataloader:\n",
    "        optimizer.zero_grad()\n",
    "        outputs = model(images)\n",
    "        loss = criterion(outputs, labels)\n",
    "        loss.backward()\n",
    "        optimizer.step()\n",
    "\n",
    "    accuracy_at_each_epoch.append(eval_model(model, val_dataset))\n",
    "    \n",
    "print('Training and evaluation finished.')"
   ]
  },
  {
   "cell_type": "code",
   "execution_count": 7,
   "metadata": {},
   "outputs": [],
   "source": [
    "# # Décommenter pour rouler d'autre épochs supplémentaires sans repartir de 0\n",
    "# for epoch in range(num_epochs):\n",
    "#     for images, labels in train_dataloader:\n",
    "#         optimizer.zero_grad()\n",
    "#         outputs = model(images)\n",
    "#         loss = criterion(outputs, labels)\n",
    "#         loss.backward()\n",
    "#         optimizer.step()\n",
    "\n",
    "#     accuracy_at_each_epoch.append(eval_model(model, val_dataset))\n",
    "    \n",
    "# print('Training and evaluation finished.')"
   ]
  },
  {
   "cell_type": "code",
   "execution_count": 27,
   "metadata": {},
   "outputs": [
    {
     "data": {
      "image/png": "[encoded data removed]",
      "text/plain": [
       "<Figure size 500x250 with 1 Axes>"
      ]
     },
     "metadata": {},
     "output_type": "display_data"
    }
   ],
   "source": [
    "from matplotlib.ticker import MultipleLocator\n",
    "\n",
    "\n",
    "fig, ax = plt.subplots(1, 1, figsize=(5, 2.5))\n",
    "\n",
    "ax.set_xlabel('Epoch (-)')\n",
    "ax.set_ylabel('Validation accuracy (%)')\n",
    "ax.set_ylim(0, 100)\n",
    "ax.set_yticks(np.arange(0, 110, 10))\n",
    "ax.xaxis.set_minor_locator(MultipleLocator(1))\n",
    "\n",
    "ax.plot(accuracy_at_each_epoch, '.')\n",
    "\n",
    "plt.grid(True)\n"
   ]
  },
  {
   "cell_type": "code",
   "execution_count": null,
   "metadata": {},
   "outputs": [],
   "source": [
    "# # Pour loader des nouvelles données à tester\n",
    "# # Problème avec les labels!\n",
    "\n",
    "# # root_dir = \"dataset_chat_downscale\"\n",
    "# root_dir = \"dataset_chat_downscale_no_background\"\n",
    "# (train_images, val_images, test_images, \n",
    "#  train_labels, val_labels, test_labels) = get_picture_tensors(root_dir, n_classes=n_classes,\n",
    "#                                                required_train_imgs=required_test_imgs,\n",
    "#                                                required_test_imgs=required_test_imgs)\n",
    "\n",
    "# # array of 10 zeros\n",
    "# index = np.zeros(len(test_images))\n",
    "# score = np.zeros(len(test_images))\n",
    "# for i in range(len(test_images)-1, 0, -1):\n",
    "#     test_images = test_images[:i]  # sa réduit la taille jusqu'à 0.. \n",
    "#     test_labels = test_labels[:i]\n",
    "#     test_dataset = ShuffleDataLoader(test_images, test_labels)\n",
    "#     # print(test_labels_i)\n",
    "#     index[i] = i\n",
    "#     score[i] = eval_model(model, test_dataset)"
   ]
  },
  {
   "cell_type": "code",
   "execution_count": null,
   "metadata": {},
   "outputs": [],
   "source": [
    "# plt.plot(index, score)\n",
    "# plt.xlabel('Number of test images')\n",
    "# plt.ylabel('Accuracy (%)')"
   ]
  },
  {
   "cell_type": "code",
   "execution_count": 29,
   "metadata": {},
   "outputs": [
    {
     "name": "stdout",
     "output_type": "stream",
     "text": [
      "    Classe : 40\n",
      "Prédiction : 40\n"
     ]
    },
    {
     "data": {
      "image/png": "[encoded data removed]",
      "text/plain": [
       "<Figure size 500x300 with 1 Axes>"
      ]
     },
     "metadata": {},
     "output_type": "display_data"
    }
   ],
   "source": [
    "# Test individuel du model\n",
    "\n",
    "\n",
    "index = 40\n",
    "\n",
    "# index 21 = 0023\n",
    "# index 21 = 0026\n",
    "\n",
    "# import dataset_preprocessing\n",
    "# dataset_preprocessing.show_images_as_grid(val_images[index])\n",
    "\n",
    "model.eval()\n",
    "\n",
    "with torch.no_grad():\n",
    "    images = val_images[index]\n",
    "    labels = val_labels[index]\n",
    "\n",
    "    images = images.unsqueeze(0)\n",
    "    outputs = model(images)\n",
    "\n",
    "    sig_output = F.sigmoid(outputs).squeeze(0)\n",
    "\n",
    "    _, predicted = torch.max(outputs.data, 1)\n",
    "\n",
    "\n",
    "from matplotlib.ticker import MultipleLocator\n",
    "\n",
    "x_axis = np.arange(0, n_classes, 1)\n",
    "\n",
    "fig, ax = plt.subplots(1, 1, figsize=(5, 3))\n",
    "\n",
    "ax.set_xlabel('Classe')\n",
    "ax.set_ylabel('Probabilité (-)')\n",
    "ax.set_xlim(0 - 0.5, n_classes - 0.5)\n",
    "ax.xaxis.set_minor_locator(MultipleLocator(1))\n",
    "ax.set_title('Truth : ' + str(index) + '\\n Predicted : ' + str(predicted.item()))\n",
    "\n",
    "# Probabilité\n",
    "ax.bar(x_axis, labels, width = 1*n_classes/50, label = 'Truth')\n",
    "ax.bar(x_axis, sig_output/max(sig_output), width = 0.3*n_classes/50, label = 'Prediction (norm)', color = 'C2')\n",
    "ax.bar(x_axis, sig_output, width = 0.5*n_classes/50, label = 'Prediction', color = 'C1')\n",
    "ax.set_ylim(0, 1)\n",
    "\n",
    "fig.tight_layout()\n",
    "\n",
    "\n",
    "print('    Classe : ' + str(index))\n",
    "print('Prédiction : ' + str(predicted.item()))\n"
   ]
  }
 ],
 "metadata": {
  "kernelspec": {
   "display_name": "CatProject",
   "language": "python",
   "name": "python3"
  },
  "language_info": {
   "codemirror_mode": {
    "name": "ipython",
    "version": 3
   },
   "file_extension": ".py",
   "mimetype": "text/x-python",
   "name": "python",
   "nbconvert_exporter": "python",
   "pygments_lexer": "ipython3",
   "version": "3.10.11"
  }
 },
 "nbformat": 4,
 "nbformat_minor": 2
}
