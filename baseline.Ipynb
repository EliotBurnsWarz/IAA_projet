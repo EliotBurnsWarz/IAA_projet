{
 "cells": [
  {
   "cell_type": "code",
   "execution_count": 1,
   "metadata": {},
   "outputs": [],
   "source": [
    "import torch\n",
    "import torch.nn as nn\n",
    "import torch.optim as optim\n",
    "import torchvision\n",
    "import torchvision.models as models\n",
    "import torchvision.transforms as transforms\n",
    "\n",
    "from torch.utils.data import TensorDataset, DataLoader, Dataset\n",
    "\n",
    "import torch.nn.functional as F\n",
    "\n",
    "import numpy as np\n",
    "\n",
    "\n",
    "import matplotlib.pyplot as plt\n",
    "\n",
    "from PIL import Image\n",
    "\n",
    "import os\n",
    "import glob\n",
    "\n",
    "\n",
    "from MyDataLoader import ShuffleDataLoader\n",
    "from FileReader import get_picture_tensors\n",
    "from MyModels import SimpleCNN\n",
    "from ModelEvaluation import eval_model\n"
   ]
  },
  {
   "cell_type": "code",
   "execution_count": 2,
   "metadata": {},
   "outputs": [],
   "source": [
    "# data params\n",
    "n_classes = 50\n",
    "required_train_imgs = 10\n",
    "required_test_imgs = 1"
   ]
  },
  {
   "cell_type": "code",
   "execution_count": null,
   "metadata": {},
   "outputs": [],
   "source": [
    "root_dir = \"dataset_chat_downscale_no_background\"\n",
    "(train_images, val_images, test_images, \n",
    " train_labels, val_labels, test_labels) = get_picture_tensors(root_dir, n_classes=n_classes, \n",
    "                                                              required_train_imgs=required_train_imgs, \n",
    "                                                              required_test_imgs=required_test_imgs)"
   ]
  },
  {
   "cell_type": "code",
   "execution_count": 4,
   "metadata": {},
   "outputs": [
    {
     "name": "stdout",
     "output_type": "stream",
     "text": [
      "Accuracy on validation dataset: 54.35%\n",
      "Accuracy on validation dataset: 80.43%\n",
      "Accuracy on validation dataset: 89.13%\n",
      "Accuracy on validation dataset: 95.65%\n",
      "Accuracy on validation dataset: 95.65%\n",
      "Accuracy on validation dataset: 93.48%\n",
      "Training and evaluation finished.\n"
     ]
    }
   ],
   "source": [
    "# params du modèle, essayer avec gridsearch (idéalement Randomized pour ne pas prendre énormément de temps), avec une bonne machine durant la nuit ou qqch\n",
    "# faudrait idéalement logger les performances selon chaque combination de params pour s'amuser\n",
    "num_epochs = 6\n",
    "batch_size = 8\n",
    "learning_rate = 1e-3\n",
    "momentum = 0.5\n",
    "weight_decay = 1e-5 \n",
    "\n",
    "model = SimpleCNN(n_classes)\n",
    "model.train()\n",
    "train_dataset = ShuffleDataLoader(train_images, train_labels)\n",
    "train_dataloader = DataLoader(train_dataset, batch_size = batch_size, shuffle=True)\n",
    "val_dataset = ShuffleDataLoader(val_images, val_labels)\n",
    "\n",
    "\n",
    "criterion = nn.CrossEntropyLoss()\n",
    "params = filter(lambda x: x.requires_grad, model.parameters())\n",
    "optimizer = optim.Adam(params, lr = learning_rate)\n",
    "\n",
    "# Gossage sur les params potentiel\n",
    "# criterion = nn.CrossEntropyLoss(reduction = 'sum')\n",
    "# criterion = nn.CrossEntropyLoss(reduction = 'none')\n",
    "# optimizer = optim.Adam(model.parameters(), lr=learning_rate)\n",
    "# optimizer = optim.Adam(params, lr = learning_rate, weight_decay = weight_decay)\n",
    "# optimizer = optim.SGD(params, lr = learning_rate, momentum = momentum)   \n",
    "\n",
    "accuracy_at_each_epoch = []\n",
    "for epoch in range(num_epochs):\n",
    "    for images, labels in train_dataloader:\n",
    "        optimizer.zero_grad()\n",
    "        outputs = model(images)\n",
    "        loss = criterion(outputs, labels)\n",
    "        loss.backward()\n",
    "        optimizer.step()\n",
    "\n",
    "    accuracy_at_each_epoch.append(eval_model(model, val_dataset))\n",
    "    \n",
    "print('Training and evaluation finished.')"
   ]
  },
  {
   "cell_type": "code",
   "execution_count": 5,
   "metadata": {},
   "outputs": [
    {
     "data": {
      "text/plain": [
       "Text(0, 0.5, 'Accuracy (%)')"
      ]
     },
     "execution_count": 5,
     "metadata": {},
     "output_type": "execute_result"
    },
    {
     "data": {
      "image/png": "[encoded data removed]",
      "text/plain": [
       "<Figure size 640x480 with 1 Axes>"
      ]
     },
     "metadata": {},
     "output_type": "display_data"
    }
   ],
   "source": [
    "plt.plot(accuracy_at_each_epoch)\n",
    "plt.xlabel('Epoch')\n",
    "plt.ylabel('Accuracy (%)')"
   ]
  },
  {
   "cell_type": "code",
   "execution_count": 88,
   "metadata": {},
   "outputs": [
    {
     "name": "stdout",
     "output_type": "stream",
     "text": [
      "Chargement de dataset_chat_downscale\\0001  ->  3/17 images\n",
      "Chargement de dataset_chat_downscale\\0002  ->  3/20 images\n",
      "Chargement de dataset_chat_downscale\\0003  ->  3/15 images\n",
      "Chargement de dataset_chat_downscale\\0004  ->  3/56 images\n",
      "Chargement de dataset_chat_downscale\\0005  ->  3/41 images\n",
      "Chargement de dataset_chat_downscale\\0006  ->  3/40 images\n",
      "Chargement de dataset_chat_downscale\\0007  ->  3/41 images\n",
      "Chargement de dataset_chat_downscale\\0008  ->  3/18 images\n",
      "Chargement de dataset_chat_downscale\\0009  ->  3/13 images\n",
      "Chargement de dataset_chat_downscale\\0010  ->  3/36 images\n",
      "Chargement de dataset_chat_downscale\\0011  ->  3/26 images\n",
      "Chargement de dataset_chat_downscale\\0012  ->  3/17 images\n",
      "Chargement de dataset_chat_downscale\\0014  ->  3/16 images\n",
      "Chargement de dataset_chat_downscale\\0015  ->  3/53 images\n",
      "Chargement de dataset_chat_downscale\\0016  ->  3/32 images\n",
      "Chargement de dataset_chat_downscale\\0017  ->  3/61 images\n",
      "Chargement de dataset_chat_downscale\\0018  ->  3/54 images\n",
      "Chargement de dataset_chat_downscale\\0019  ->  3/46 images\n",
      "Chargement de dataset_chat_downscale\\0020  ->  3/29 images\n",
      "Chargement de dataset_chat_downscale\\0021  ->  3/36 images\n",
      "Chargement de dataset_chat_downscale\\0022  ->  3/40 images\n",
      "Chargement de dataset_chat_downscale\\0023  ->  3/12 images\n",
      "Chargement de dataset_chat_downscale\\0024  ->  3/28 images\n",
      "Chargement de dataset_chat_downscale\\0025  ->  3/16 images\n",
      "Chargement de dataset_chat_downscale\\0026  ->  3/20 images\n",
      "Chargement de dataset_chat_downscale\\0027  ->  3/51 images\n",
      "Chargement de dataset_chat_downscale\\0028  ->  3/37 images\n",
      "Chargement de dataset_chat_downscale\\0029  ->  3/77 images\n",
      "Chargement de dataset_chat_downscale\\0030  ->  3/25 images\n",
      "Chargement de dataset_chat_downscale\\0031  ->  3/28 images\n",
      "Chargement de dataset_chat_downscale\\0033  ->  3/13 images\n",
      "Chargement de dataset_chat_downscale\\0034  ->  3/10 images\n",
      "Chargement de dataset_chat_downscale\\0035  ->  3/15 images\n",
      "Chargement de dataset_chat_downscale\\0036  ->  3/33 images\n",
      "Chargement de dataset_chat_downscale\\0037  ->  3/16 images\n",
      "Chargement de dataset_chat_downscale\\0038  ->  3/6 images\n",
      "Chargement de dataset_chat_downscale\\0039  ->  3/6 images\n",
      "Chargement de dataset_chat_downscale\\0040  ->  3/12 images\n",
      "Chargement de dataset_chat_downscale\\0041  ->  3/8 images\n",
      "Chargement de dataset_chat_downscale\\0042  ->  3/23 images\n",
      "Chargement de dataset_chat_downscale\\0043  ->  3/27 images\n",
      "Chargement de dataset_chat_downscale\\0044  ->  3/52 images\n",
      "Chargement de dataset_chat_downscale\\0045  ->  3/19 images\n",
      "Chargement de dataset_chat_downscale\\0046  ->  3/95 images\n",
      "Chargement de dataset_chat_downscale\\0047  ->  3/43 images\n",
      "Chargement de dataset_chat_downscale\\0048  ->  3/38 images\n",
      "Chargement de dataset_chat_downscale\\0049  ->  3/17 images\n",
      "Chargement de dataset_chat_downscale\\0050  ->  3/22 images\n",
      "Chargement de dataset_chat_downscale\\0051  ->  3/20 images\n",
      "Chargement de dataset_chat_downscale\\0052  ->  3/14 images\n",
      "Done!\n"
     ]
    }
   ],
   "source": [
    "root_dir = \"dataset_chat_downscale\"\n",
    "(train_images, val_images, test_images, \n",
    " train_labels, val_labels, test_labels) = get_picture_tensors(root_dir, n_classes=n_classes,\n",
    "                                               required_train_imgs=required_test_imgs,\n",
    "                                               required_test_imgs=required_test_imgs)"
   ]
  },
  {
   "cell_type": "code",
   "execution_count": 89,
   "metadata": {},
   "outputs": [
    {
     "name": "stdout",
     "output_type": "stream",
     "text": [
      "Accuracy on validation dataset: 100.00%\n",
      "Accuracy on validation dataset: 100.00%\n",
      "Accuracy on validation dataset: 100.00%\n",
      "Accuracy on validation dataset: 100.00%\n",
      "Accuracy on validation dataset: 100.00%\n",
      "Accuracy on validation dataset: 100.00%\n",
      "Accuracy on validation dataset: 100.00%\n",
      "Accuracy on validation dataset: 100.00%\n",
      "Accuracy on validation dataset: 100.00%\n"
     ]
    }
   ],
   "source": [
    "# array of 10 zeros\n",
    "index = np.zeros(len(test_images))\n",
    "score = np.zeros(len(test_images))\n",
    "for i in range(len(test_images)-1, 0, -1):\n",
    "    test_images = test_images[:i]\n",
    "    test_labels = test_labels[:i]\n",
    "    test_dataset = ShuffleDataLoader(test_images, test_labels)\n",
    "    index[i] = i\n",
    "    score[i] = eval_model(model, test_dataset)"
   ]
  },
  {
   "cell_type": "code",
   "execution_count": 87,
   "metadata": {},
   "outputs": [
    {
     "data": {
      "text/plain": [
       "Text(0, 0.5, 'Accuracy (%)')"
      ]
     },
     "execution_count": 87,
     "metadata": {},
     "output_type": "execute_result"
    },
    {
     "data": {
      "image/png": "[encoded data removed]",
      "text/plain": [
       "<Figure size 640x480 with 1 Axes>"
      ]
     },
     "metadata": {},
     "output_type": "display_data"
    }
   ],
   "source": [
    "plt.plot(index, score)\n",
    "plt.xlabel('Number of test images')\n",
    "plt.ylabel('Accuracy (%)')"
   ]
  }
 ],
 "metadata": {
  "kernelspec": {
   "display_name": "CatProject",
   "language": "python",
   "name": "python3"
  },
  "language_info": {
   "codemirror_mode": {
    "name": "ipython",
    "version": 3
   },
   "file_extension": ".py",
   "mimetype": "text/x-python",
   "name": "python",
   "nbconvert_exporter": "python",
   "pygments_lexer": "ipython3",
   "version": "3.11.5"
  }
 },
 "nbformat": 4,
 "nbformat_minor": 2
}
