{
 "cells": [
  {
   "cell_type": "code",
   "execution_count": 1,
   "metadata": {},
   "outputs": [],
   "source": [
    "import torch\n",
    "import torch.nn as nn\n",
    "import torch.optim as optim\n",
    "import torchvision\n",
    "import torchvision.models as models\n",
    "import torchvision.transforms as transforms\n",
    "\n",
    "from torch.utils.data import TensorDataset, DataLoader, Dataset\n",
    "\n",
    "import torch.nn.functional as F\n",
    "\n",
    "import numpy as np\n",
    "\n",
    "\n",
    "import matplotlib.pyplot as plt\n",
    "\n",
    "from PIL import Image\n",
    "\n",
    "import os\n",
    "import glob\n",
    "\n",
    "\n",
    "from MyDataLoader import ShuffleDataLoader\n",
    "from FileReader import get_picture_tensors\n",
    "from MyModels import SimpleCNN\n",
    "from ModelEvaluation import eval_model\n"
   ]
  },
  {
   "cell_type": "code",
   "execution_count": 2,
   "metadata": {},
   "outputs": [],
   "source": [
    "# data params\n",
    "n_classes = 100\n",
    "required_train_imgs = 10\n",
    "required_test_imgs = 1"
   ]
  },
  {
   "cell_type": "code",
   "execution_count": 3,
   "metadata": {},
   "outputs": [
    {
     "name": "stdout",
     "output_type": "stream",
     "text": [
      "Chargement de dataset_chat/0001  ->  12/17 images\n",
      "Chargement de dataset_chat/0002  ->  12/20 images\n",
      "Chargement de dataset_chat/0003  ->  12/15 images\n",
      "Chargement de dataset_chat/0004  ->  12/56 images\n",
      "Chargement de dataset_chat/0005  ->  12/41 images\n",
      "Chargement de dataset_chat/0006  ->  12/40 images\n",
      "Chargement de dataset_chat/0007  ->  12/41 images\n",
      "Chargement de dataset_chat/0008  ->  12/18 images\n",
      "Chargement de dataset_chat/0009  ->  12/13 images\n",
      "Chargement de dataset_chat/0010  ->  12/19 images\n",
      "Chargement de dataset_chat/0011  ->  12/26 images\n",
      "Chargement de dataset_chat/0012  ->  12/17 images\n",
      "dataset_chat/0013 does not contain enough images, will not be used\n",
      "Chargement de dataset_chat/0014  ->  12/16 images\n",
      "Chargement de dataset_chat/0015  ->  12/53 images\n",
      "Chargement de dataset_chat/0016  ->  12/32 images\n",
      "Chargement de dataset_chat/0017  ->  12/62 images\n",
      "Chargement de dataset_chat/0018  ->  12/54 images\n",
      "Chargement de dataset_chat/0019  ->  12/46 images\n",
      "Chargement de dataset_chat/0020  ->  12/29 images\n",
      "Chargement de dataset_chat/0021  ->  12/36 images\n",
      "Chargement de dataset_chat/0022  ->  12/40 images\n",
      "Chargement de dataset_chat/0023  ->  12/12 images\n",
      "Chargement de dataset_chat/0024  ->  12/28 images\n",
      "Chargement de dataset_chat/0025  ->  12/16 images\n",
      "Chargement de dataset_chat/0026  ->  12/20 images\n",
      "Chargement de dataset_chat/0027  ->  12/51 images\n",
      "Chargement de dataset_chat/0028  ->  12/37 images\n",
      "Chargement de dataset_chat/0029  ->  12/77 images\n",
      "Chargement de dataset_chat/0030  ->  12/25 images\n",
      "Chargement de dataset_chat/0031  ->  12/28 images\n",
      "Chargement de dataset_chat/0033  ->  12/13 images\n",
      "dataset_chat/0034 does not contain enough images, will not be used\n",
      "Chargement de dataset_chat/0035  ->  12/15 images\n",
      "Chargement de dataset_chat/0036  ->  12/34 images\n",
      "Chargement de dataset_chat/0037  ->  12/16 images\n",
      "dataset_chat/0038 does not contain enough images, will not be used\n",
      "dataset_chat/0039 does not contain enough images, will not be used\n",
      "Chargement de dataset_chat/0040  ->  12/12 images\n",
      "dataset_chat/0041 does not contain enough images, will not be used\n",
      "Chargement de dataset_chat/0042  ->  12/23 images\n",
      "Chargement de dataset_chat/0043  ->  12/27 images\n",
      "Chargement de dataset_chat/0044  ->  12/52 images\n",
      "Chargement de dataset_chat/0045  ->  12/19 images\n",
      "Chargement de dataset_chat/0046  ->  12/95 images\n",
      "Chargement de dataset_chat/0047  ->  12/43 images\n",
      "Chargement de dataset_chat/0048  ->  12/38 images\n",
      "Chargement de dataset_chat/0049  ->  12/17 images\n",
      "Chargement de dataset_chat/0050  ->  12/22 images\n",
      "Chargement de dataset_chat/0051  ->  12/20 images\n",
      "Chargement de dataset_chat/0052  ->  12/14 images\n",
      "Chargement de dataset_chat/0053  ->  12/32 images\n",
      "Chargement de dataset_chat/0054  ->  12/16 images\n",
      "Chargement de dataset_chat/0055  ->  12/40 images\n",
      "Chargement de dataset_chat/0056  ->  12/30 images\n",
      "Chargement de dataset_chat/0057  ->  12/40 images\n",
      "Chargement de dataset_chat/0058  ->  12/16 images\n",
      "Chargement de dataset_chat/0059  ->  12/28 images\n",
      "Chargement de dataset_chat/0060  ->  12/31 images\n",
      "Chargement de dataset_chat/0061  ->  12/23 images\n",
      "Chargement de dataset_chat/0062  ->  12/32 images\n",
      "Chargement de dataset_chat/0063  ->  12/38 images\n",
      "Chargement de dataset_chat/0064  ->  12/21 images\n",
      "Chargement de dataset_chat/0065  ->  12/30 images\n",
      "Chargement de dataset_chat/0066  ->  12/49 images\n",
      "Chargement de dataset_chat/0067  ->  12/36 images\n",
      "Chargement de dataset_chat/0068  ->  12/23 images\n",
      "Chargement de dataset_chat/0069  ->  12/30 images\n",
      "Chargement de dataset_chat/0071  ->  12/40 images\n",
      "Chargement de dataset_chat/0072  ->  12/32 images\n",
      "Chargement de dataset_chat/0073  ->  12/39 images\n",
      "Chargement de dataset_chat/0075  ->  12/34 images\n",
      "Chargement de dataset_chat/0076  ->  12/22 images\n",
      "Chargement de dataset_chat/0077  ->  12/37 images\n",
      "Chargement de dataset_chat/0078  ->  12/29 images\n",
      "Chargement de dataset_chat/0079  ->  12/42 images\n",
      "dataset_chat/0080 does not contain enough images, will not be used\n",
      "Chargement de dataset_chat/0081  ->  12/21 images\n",
      "Chargement de dataset_chat/0082  ->  12/48 images\n",
      "Chargement de dataset_chat/0083  ->  12/30 images\n",
      "Chargement de dataset_chat/0084  ->  12/40 images\n",
      "Chargement de dataset_chat/0085  ->  12/20 images\n",
      "Chargement de dataset_chat/0086  ->  12/18 images\n",
      "Chargement de dataset_chat/0087  ->  12/28 images\n",
      "Chargement de dataset_chat/0088  ->  12/20 images\n",
      "Chargement de dataset_chat/0089  ->  12/30 images\n",
      "dataset_chat/0090 does not contain enough images, will not be used\n",
      "Chargement de dataset_chat/0091  ->  12/18 images\n",
      "Chargement de dataset_chat/0092  ->  12/13 images\n",
      "Chargement de dataset_chat/0093  ->  12/17 images\n",
      "Chargement de dataset_chat/0094  ->  12/30 images\n",
      "Chargement de dataset_chat/0095  ->  12/29 images\n",
      "Chargement de dataset_chat/0096  ->  12/26 images\n",
      "Chargement de dataset_chat/0097  ->  12/25 images\n",
      "Chargement de dataset_chat/0098  ->  12/20 images\n",
      "Chargement de dataset_chat/0099  ->  12/24 images\n",
      "Chargement de dataset_chat/0100  ->  12/22 images\n",
      "Chargement de dataset_chat/0101  ->  12/14 images\n",
      "Chargement de dataset_chat/0102  ->  12/13 images\n",
      "Chargement de dataset_chat/0103  ->  12/24 images\n",
      "Chargement de dataset_chat/0104  ->  12/25 images\n",
      "Chargement de dataset_chat/0105  ->  12/21 images\n",
      "Chargement de dataset_chat/0106  ->  12/17 images\n",
      "Chargement de dataset_chat/0107  ->  12/14 images\n",
      "Chargement de dataset_chat/0108  ->  12/13 images\n",
      "Chargement de dataset_chat/0109  ->  12/17 images\n",
      "Chargement de dataset_chat/0110  ->  12/13 images\n",
      "Done!\n"
     ]
    }
   ],
   "source": [
    "(train_images, val_images, test_images, \n",
    " train_labels, val_labels, test_labels) = get_picture_tensors(n_classes=n_classes, \n",
    "                                                              required_train_imgs=required_train_imgs, \n",
    "                                                              required_test_imgs=required_test_imgs)"
   ]
  },
  {
   "cell_type": "code",
   "execution_count": 4,
   "metadata": {},
   "outputs": [
    {
     "name": "stderr",
     "output_type": "stream",
     "text": [
      "c:\\Users\\Antoine\\miniconda3\\envs\\CatProject\\lib\\site-packages\\torchvision\\models\\_utils.py:208: UserWarning: The parameter 'pretrained' is deprecated since 0.13 and may be removed in the future, please use 'weights' instead.\n",
      "  warnings.warn(\n",
      "c:\\Users\\Antoine\\miniconda3\\envs\\CatProject\\lib\\site-packages\\torchvision\\models\\_utils.py:223: UserWarning: Arguments other than a weight enum or `None` for 'weights' are deprecated since 0.13 and may be removed in the future. The current behavior is equivalent to passing `weights=ResNet18_Weights.IMAGENET1K_V1`. You can also use `weights=ResNet18_Weights.DEFAULT` to get the most up-to-date weights.\n",
      "  warnings.warn(msg)\n"
     ]
    },
    {
     "name": "stdout",
     "output_type": "stream",
     "text": [
      "Accuracy on validation dataset: 32.00%\n",
      "Accuracy on validation dataset: 68.00%\n",
      "Accuracy on validation dataset: 84.00%\n",
      "Accuracy on validation dataset: 87.00%\n",
      "Training and evaluation finished.\n"
     ]
    }
   ],
   "source": [
    "# params du modèle, essayer avec gridsearch (idéalement Randomized pour ne pas prendre énormément de temps), avec une bonne machine durant la nuit ou qqch\n",
    "# faudrait idéalement logger les performances selon chaque combination de params pour s'amuser\n",
    "num_epochs = 4\n",
    "batch_size = 8\n",
    "learning_rate = 1e-3\n",
    "momentum = 0.5\n",
    "weight_decay = 1e-5 \n",
    "\n",
    "model = SimpleCNN(n_classes)\n",
    "model.train()\n",
    "train_dataset = ShuffleDataLoader(train_images, train_labels)\n",
    "train_dataloader = DataLoader(train_dataset, batch_size = batch_size, shuffle=True)\n",
    "val_dataset = ShuffleDataLoader(val_images, val_labels)\n",
    "\n",
    "\n",
    "criterion = nn.CrossEntropyLoss()\n",
    "params = filter(lambda x: x.requires_grad, model.parameters())\n",
    "optimizer = optim.Adam(params, lr = learning_rate)\n",
    "\n",
    "# Gossage sur les params potentiel\n",
    "# criterion = nn.CrossEntropyLoss(reduction = 'sum')\n",
    "# criterion = nn.CrossEntropyLoss(reduction = 'none')\n",
    "# optimizer = optim.Adam(model.parameters(), lr=learning_rate)\n",
    "# optimizer = optim.Adam(params, lr = learning_rate, weight_decay = weight_decay)\n",
    "# optimizer = optim.SGD(params, lr = learning_rate, momentum = momentum)   \n",
    "\n",
    "accuracy_at_each_epoch = []\n",
    "for epoch in range(num_epochs):\n",
    "    for images, labels in train_dataloader:\n",
    "        optimizer.zero_grad()\n",
    "        outputs = model(images)\n",
    "        loss = criterion(outputs, labels)\n",
    "        loss.backward()\n",
    "        optimizer.step()\n",
    "\n",
    "    accuracy_at_each_epoch.append(eval_model(model, val_dataset))\n",
    "    \n",
    "print('Training and evaluation finished.')"
   ]
  },
  {
   "cell_type": "code",
   "execution_count": 5,
   "metadata": {},
   "outputs": [
    {
     "data": {
      "text/plain": [
       "Text(0, 0.5, 'Accuracy (%)')"
      ]
     },
     "execution_count": 5,
     "metadata": {},
     "output_type": "execute_result"
    },
    {
     "data": {
      "image/png": "[encoded data removed]",
      "text/plain": [
       "<Figure size 640x480 with 1 Axes>"
      ]
     },
     "metadata": {},
     "output_type": "display_data"
    }
   ],
   "source": [
    "plt.plot(accuracy_at_each_epoch)\n",
    "plt.xlabel('Epoch')\n",
    "plt.ylabel('Accuracy (%)')"
   ]
  },
  {
   "cell_type": "code",
   "execution_count": 8,
   "metadata": {},
   "outputs": [
    {
     "name": "stdout",
     "output_type": "stream",
     "text": [
      "100\n",
      "Accuracy on test dataset: 88.00%\n"
     ]
    },
    {
     "data": {
      "text/plain": [
       "88.0"
      ]
     },
     "execution_count": 8,
     "metadata": {},
     "output_type": "execute_result"
    }
   ],
   "source": [
    "print(len(test_images))\n",
    "\n",
    "test_dataset = ShuffleDataLoader(test_images, test_labels)\n",
    "eval_model(model, test_dataset, type_of_dataset=\"test\")"
   ]
  }
 ],
 "metadata": {
  "kernelspec": {
   "display_name": "CatProject",
   "language": "python",
   "name": "python3"
  },
  "language_info": {
   "codemirror_mode": {
    "name": "ipython",
    "version": 3
   },
   "file_extension": ".py",
   "mimetype": "text/x-python",
   "name": "python",
   "nbconvert_exporter": "python",
   "pygments_lexer": "ipython3",
   "version": "3.10.13"
  }
 },
 "nbformat": 4,
 "nbformat_minor": 2
}
